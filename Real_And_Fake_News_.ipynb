{
  "nbformat": 4,
  "nbformat_minor": 0,
  "metadata": {
    "colab": {
      "provenance": [],
      "mount_file_id": "1pCZAlDHrh9EaUJ8sNryZtG5pJ4Dyax_e",
      "authorship_tag": "ABX9TyPhI5dzryQPvwgfgcMNbiZl",
      "include_colab_link": true
    },
    "kernelspec": {
      "name": "python3",
      "display_name": "Python 3"
    },
    "language_info": {
      "name": "python"
    }
  },
  "cells": [
    {
      "cell_type": "markdown",
      "metadata": {
        "id": "view-in-github",
        "colab_type": "text"
      },
      "source": [
        "<a href=\"https://colab.research.google.com/github/shoaib247964/-Financial-PhraseBank-Sentiment-Analysis-for-Financial-News-/blob/main/Real_And_Fake_News_.ipynb\" target=\"_parent\"><img src=\"https://colab.research.google.com/assets/colab-badge.svg\" alt=\"Open In Colab\"/></a>"
      ]
    },
    {
      "cell_type": "code",
      "execution_count": 1,
      "metadata": {
        "id": "pmqE1chYGGsA"
      },
      "outputs": [],
      "source": [
        "import pandas as pd\n",
        "import numpy as np\n",
        "from sklearn.model_selection import train_test_split\n",
        "\n",
        "# Load dataset\n",
        "# The 'error_bad_lines' argument is deprecated.\n",
        "# Using 'on_bad_lines' instead to handle bad lines.\n",
        "# 'quoting=3' is used to ignore quotes.\n",
        "real_news = pd.read_csv('/content/True.csv', on_bad_lines='skip', quoting=3)\n",
        "fake_news = pd.read_csv('/content/Fake.csv', on_bad_lines='skip', quoting=3)\n",
        "\n",
        "# Add labels\n",
        "real_news['label'] = 1  # 1 for real news\n",
        "fake_news['label'] = 0  # 0 for fake news\n",
        "\n",
        "# Combine datasets\n",
        "news_df = pd.concat([real_news, fake_news]).sample(frac=1).reset_index(drop=True)\n",
        "\n",
        "# Split into train and test sets\n",
        "X_train, X_test, y_train, y_test = train_test_split(news_df['text'], news_df['label'], test_size=0.2, random_state=42)"
      ]
    },
    {
      "cell_type": "code",
      "source": [
        "import nltk\n",
        "from nltk.corpus import stopwords\n",
        "from nltk.stem import WordNetLemmatizer\n",
        "import re\n",
        "\n",
        "nltk.download('stopwords')\n",
        "nltk.download('wordnet')\n",
        "nltk.download('punkt')\n",
        "# Download the 'punkt_tab' resource\n",
        "nltk.download('punkt_tab')\n",
        "\n",
        "def preprocess_text(text):\n",
        "    # Check if text is a string before preprocessing\n",
        "    if isinstance(text, str):\n",
        "        # Convert to lowercase\n",
        "        text = text.lower()\n",
        "\n",
        "        # Remove special characters and numbers\n",
        "        text = re.sub(r'[^a-zA-Z\\s]', '', text)\n",
        "\n",
        "        # Tokenize\n",
        "        words = nltk.word_tokenize(text)\n",
        "\n",
        "        # Remove stopwords\n",
        "        stop_words = set(stopwords.words('english'))\n",
        "        words = [word for word in words if word not in stop_words]\n",
        "\n",
        "        # Lemmatization\n",
        "        lemmatizer = WordNetLemmatizer()\n",
        "        words = [lemmatizer.lemmatize(word) for word in words]\n",
        "\n",
        "        return ' '.join(words)\n",
        "    else:\n",
        "        # Return empty string if text is not a string\n",
        "        return ''\n",
        "\n",
        "# Apply preprocessing\n",
        "X_train_processed = X_train.apply(preprocess_text)\n",
        "X_test_processed = X_test.apply(preprocess_text)"
      ],
      "metadata": {
        "colab": {
          "base_uri": "https://localhost:8080/"
        },
        "id": "OqRQZt4LHngO",
        "outputId": "b987d560-77df-4867-dc6c-471336a3ae3a"
      },
      "execution_count": 2,
      "outputs": [
        {
          "output_type": "stream",
          "name": "stderr",
          "text": [
            "[nltk_data] Downloading package stopwords to /root/nltk_data...\n",
            "[nltk_data]   Package stopwords is already up-to-date!\n",
            "[nltk_data] Downloading package wordnet to /root/nltk_data...\n",
            "[nltk_data]   Package wordnet is already up-to-date!\n",
            "[nltk_data] Downloading package punkt to /root/nltk_data...\n",
            "[nltk_data]   Package punkt is already up-to-date!\n",
            "[nltk_data] Downloading package punkt_tab to /root/nltk_data...\n",
            "[nltk_data]   Package punkt_tab is already up-to-date!\n"
          ]
        }
      ]
    },
    {
      "cell_type": "code",
      "source": [
        "# Convert text into numerical features using TF-IDF\n",
        "\n",
        "import pandas as pd\n",
        "import numpy as np\n",
        "import re\n",
        "import string\n",
        "from sklearn.feature_extraction.text import TfidfVectorizer\n",
        "from sklearn.model_selection import train_test_split\n",
        "from sklearn.naive_bayes import MultinomialNB\n",
        "from sklearn.ensemble import RandomForestClassifier\n",
        "from sklearn.metrics import accuracy_score, classification_report\n",
        "\n",
        "# Load the cleaned dataset\n",
        "df = pd.read_csv(\"/content/Fake.csv\")\n",
        "df = pd.read_csv(\"/content/True.csv\")\n",
        "\n",
        "print(df.columns)\n"
      ],
      "metadata": {
        "colab": {
          "base_uri": "https://localhost:8080/"
        },
        "id": "GVar0sa5Lji-",
        "outputId": "8c2a8a75-f08d-4f6e-cb4d-818577481bbc"
      },
      "execution_count": 3,
      "outputs": [
        {
          "output_type": "stream",
          "name": "stdout",
          "text": [
            "Index(['title', 'text', 'subject', 'date'], dtype='object')\n"
          ]
        }
      ]
    },
    {
      "cell_type": "code",
      "source": [
        "from sklearn.model_selection import train_test_split\n",
        "from sklearn.feature_extraction.text import TfidfVectorizer\n",
        "from sklearn.naive_bayes import MultinomialNB\n",
        "from sklearn.ensemble import RandomForestClassifier, VotingClassifier\n",
        "from sklearn.linear_model import LogisticRegression\n",
        "from sklearn.metrics import accuracy_score, classification_report\n",
        "import pandas as pd\n",
        "\n",
        "# Load datasets separately\n",
        "fake_df = pd.read_csv(\"/content/Fake.csv\")\n",
        "true_df = pd.read_csv(\"/content/True.csv\")\n",
        "\n",
        "# Add labels (0 = Fake, 1 = True)\n",
        "fake_df[\"label\"] = 0\n",
        "true_df[\"label\"] = 1\n",
        "\n",
        "# Combine datasets\n",
        "df = pd.concat([fake_df, true_df], axis=0).reset_index(drop=True)\n",
        "\n",
        "# Define features (text) and labels (y)\n",
        "X = df[\"text\"]  # ✅ Use raw text data\n",
        "y = df[\"label\"]\n",
        "\n",
        "# Feature Extraction (Optimized)\n",
        "vectorizer = TfidfVectorizer(stop_words='english', max_features=8000, ngram_range=(1,2))  # ✅ Reduced features\n",
        "X_tfidf = vectorizer.fit_transform(X)  # ✅ Keep as sparse matrix\n",
        "\n",
        "# Train-Test Split\n",
        "X_train, X_test, y_train, y_test = train_test_split(X_tfidf, y, test_size=0.15, random_state=42, stratify=y)\n",
        "\n",
        "nb_model = MultinomialNB(alpha=0.05)\n",
        "nb_model.fit(X_train, y_train)\n",
        "nb_preds = nb_model.predict(X_test)\n",
        "nb_acc = accuracy_score(y_test, nb_preds)\n",
        "print(\"Naïve Bayes Accuracy:\", nb_acc)\n",
        "print(classification_report(y_test, nb_preds))\n",
        "\n",
        "# ✅ Optimized Random Forest\n",
        "rf_model = RandomForestClassifier(\n",
        "    n_estimators=300, max_depth=25, min_samples_split=4, min_samples_leaf=1,\n",
        "    max_features='sqrt', bootstrap=True, random_state=42\n",
        ")\n",
        "rf_model.fit(X_train, y_train)\n",
        "rf_preds = rf_model.predict(X_test)\n",
        "rf_acc = accuracy_score(y_test, rf_preds)\n",
        "print(\"Random Forest Accuracy:\", rf_acc)\n",
        "print(classification_report(y_test, rf_preds))\n",
        "\n",
        "# ✅ Optimized Ensemble Model\n",
        "log_model = LogisticRegression(C=0.5, solver='liblinear', max_iter=200)\n",
        "ensemble_model = VotingClassifier(\n",
        "    estimators=[('nb', nb_model), ('rf', rf_model), ('log', log_model)],\n",
        "    voting='soft', weights=[1, 2, 1]  # RF ko zyada weight diya\n",
        ")\n",
        "ensemble_model.fit(X_train, y_train)\n",
        "ensemble_preds = ensemble_model.predict(X_test)\n",
        "ensemble_acc = accuracy_score(y_test, ensemble_preds)\n",
        "print(\"Ensemble Model Accuracy:\", ensemble_acc)\n",
        "\n",
        "\n",
        "\n",
        "\n"
      ],
      "metadata": {
        "colab": {
          "base_uri": "https://localhost:8080/"
        },
        "id": "BKYf-sJ-szeH",
        "outputId": "8c830c7d-4e1a-4a5f-d8f1-00d92caec4fd"
      },
      "execution_count": 2,
      "outputs": [
        {
          "output_type": "stream",
          "name": "stdout",
          "text": [
            "Naïve Bayes Accuracy: 0.956792873051225\n",
            "              precision    recall  f1-score   support\n",
            "\n",
            "           0       0.96      0.96      0.96      3522\n",
            "           1       0.95      0.96      0.95      3213\n",
            "\n",
            "    accuracy                           0.96      6735\n",
            "   macro avg       0.96      0.96      0.96      6735\n",
            "weighted avg       0.96      0.96      0.96      6735\n",
            "\n",
            "Random Forest Accuracy: 0.9965850037119525\n",
            "              precision    recall  f1-score   support\n",
            "\n",
            "           0       1.00      1.00      1.00      3522\n",
            "           1       1.00      1.00      1.00      3213\n",
            "\n",
            "    accuracy                           1.00      6735\n",
            "   macro avg       1.00      1.00      1.00      6735\n",
            "weighted avg       1.00      1.00      1.00      6735\n",
            "\n",
            "Ensemble Model Accuracy: 0.9875278396436525\n"
          ]
        }
      ]
    },
    {
      "cell_type": "code",
      "source": [
        "from sklearn.model_selection import cross_val_score\n",
        "import matplotlib.pyplot as plt\n",
        "import seaborn as sns\n",
        "from sklearn.metrics import confusion_matrix\n",
        "\n",
        "# Cross-validation\n",
        "cv_scores = cross_val_score(ensemble_model, X_train, y_train, cv=5)\n",
        "print(f\"Cross-Validation Accuracy: {cv_scores.mean():.4f}\")\n",
        "\n",
        "# Confusion Matrix\n",
        "cm = confusion_matrix(y_test, ensemble_preds)\n",
        "plt.figure(figsize=(6, 5))\n",
        "sns.heatmap(cm, annot=True, fmt='d', cmap='Blues', xticklabels=['Real', 'Fake'], yticklabels=['Real', 'Fake'])\n",
        "plt.xlabel('Predicted')\n",
        "plt.ylabel('Actual')\n",
        "plt.title('Confusion Matrix')\n",
        "plt.show()\n"
      ],
      "metadata": {
        "colab": {
          "base_uri": "https://localhost:8080/",
          "height": 505
        },
        "id": "faDxKJVmus6y",
        "outputId": "c259972f-4418-4a82-e261-82ee041ddab9"
      },
      "execution_count": 3,
      "outputs": [
        {
          "output_type": "stream",
          "name": "stdout",
          "text": [
            "Cross-Validation Accuracy: 0.9867\n"
          ]
        },
        {
          "output_type": "display_data",
          "data": {
            "text/plain": [
              "<Figure size 600x500 with 2 Axes>"
            ],
            "image/png": "[encoded data removed]"
          },
          "metadata": {}
        }
      ]
    },
    {
      "cell_type": "code",
      "source": [
        "import pickle\n",
        "\n",
        "# Save models\n",
        "with open('naive_bayes.pkl', 'wb') as nb_file:\n",
        "    pickle.dump(nb_model, nb_file)\n",
        "\n",
        "with open('random_forest.pkl', 'wb') as rf_file:\n",
        "    pickle.dump(rf_model, rf_file)\n",
        "\n",
        "with open('vectorizer.pkl', 'wb') as vec_file:\n",
        "    pickle.dump(vectorizer, vec_file)\n",
        "\n",
        "print(\"Models and vectorizer saved successfully!\")\n",
        "\n"
      ],
      "metadata": {
        "colab": {
          "base_uri": "https://localhost:8080/"
        },
        "id": "SQsDGrKk4wes",
        "outputId": "d0573099-23b1-44db-a076-c7da1baf0e08"
      },
      "execution_count": 6,
      "outputs": [
        {
          "output_type": "stream",
          "name": "stdout",
          "text": [
            "Models and vectorizer saved successfully!\n"
          ]
        }
      ]
    },
    {
      "cell_type": "code",
      "source": [
        "!pip install fastapi uvicorn flask-ngrok joblib\n"
      ],
      "metadata": {
        "colab": {
          "base_uri": "https://localhost:8080/"
        },
        "id": "Fm34R5vn777S",
        "outputId": "996e47ad-5187-4354-9a17-9ef61c3529be"
      },
      "execution_count": 8,
      "outputs": [
        {
          "output_type": "stream",
          "name": "stdout",
          "text": [
            "Collecting fastapi\n",
            "  Downloading fastapi-0.115.12-py3-none-any.whl.metadata (27 kB)\n",
            "Collecting uvicorn\n",
            "  Downloading uvicorn-0.34.0-py3-none-any.whl.metadata (6.5 kB)\n",
            "Collecting flask-ngrok\n",
            "  Downloading flask_ngrok-0.0.25-py3-none-any.whl.metadata (1.8 kB)\n",
            "Requirement already satisfied: joblib in /usr/local/lib/python3.11/dist-packages (1.4.2)\n",
            "Collecting starlette<0.47.0,>=0.40.0 (from fastapi)\n",
            "  Downloading starlette-0.46.1-py3-none-any.whl.metadata (6.2 kB)\n",
            "Requirement already satisfied: pydantic!=1.8,!=1.8.1,!=2.0.0,!=2.0.1,!=2.1.0,<3.0.0,>=1.7.4 in /usr/local/lib/python3.11/dist-packages (from fastapi) (2.10.6)\n",
            "Requirement already satisfied: typing-extensions>=4.8.0 in /usr/local/lib/python3.11/dist-packages (from fastapi) (4.12.2)\n",
            "Requirement already satisfied: click>=7.0 in /usr/local/lib/python3.11/dist-packages (from uvicorn) (8.1.8)\n",
            "Requirement already satisfied: h11>=0.8 in /usr/local/lib/python3.11/dist-packages (from uvicorn) (0.14.0)\n",
            "Requirement already satisfied: Flask>=0.8 in /usr/local/lib/python3.11/dist-packages (from flask-ngrok) (3.1.0)\n",
            "Requirement already satisfied: requests in /usr/local/lib/python3.11/dist-packages (from flask-ngrok) (2.32.3)\n",
            "Requirement already satisfied: Werkzeug>=3.1 in /usr/local/lib/python3.11/dist-packages (from Flask>=0.8->flask-ngrok) (3.1.3)\n",
            "Requirement already satisfied: Jinja2>=3.1.2 in /usr/local/lib/python3.11/dist-packages (from Flask>=0.8->flask-ngrok) (3.1.6)\n",
            "Requirement already satisfied: itsdangerous>=2.2 in /usr/local/lib/python3.11/dist-packages (from Flask>=0.8->flask-ngrok) (2.2.0)\n",
            "Requirement already satisfied: blinker>=1.9 in /usr/local/lib/python3.11/dist-packages (from Flask>=0.8->flask-ngrok) (1.9.0)\n",
            "Requirement already satisfied: annotated-types>=0.6.0 in /usr/local/lib/python3.11/dist-packages (from pydantic!=1.8,!=1.8.1,!=2.0.0,!=2.0.1,!=2.1.0,<3.0.0,>=1.7.4->fastapi) (0.7.0)\n",
            "Requirement already satisfied: pydantic-core==2.27.2 in /usr/local/lib/python3.11/dist-packages (from pydantic!=1.8,!=1.8.1,!=2.0.0,!=2.0.1,!=2.1.0,<3.0.0,>=1.7.4->fastapi) (2.27.2)\n",
            "Requirement already satisfied: anyio<5,>=3.6.2 in /usr/local/lib/python3.11/dist-packages (from starlette<0.47.0,>=0.40.0->fastapi) (4.9.0)\n",
            "Requirement already satisfied: charset-normalizer<4,>=2 in /usr/local/lib/python3.11/dist-packages (from requests->flask-ngrok) (3.4.1)\n",
            "Requirement already satisfied: idna<4,>=2.5 in /usr/local/lib/python3.11/dist-packages (from requests->flask-ngrok) (3.10)\n",
            "Requirement already satisfied: urllib3<3,>=1.21.1 in /usr/local/lib/python3.11/dist-packages (from requests->flask-ngrok) (2.3.0)\n",
            "Requirement already satisfied: certifi>=2017.4.17 in /usr/local/lib/python3.11/dist-packages (from requests->flask-ngrok) (2025.1.31)\n",
            "Requirement already satisfied: sniffio>=1.1 in /usr/local/lib/python3.11/dist-packages (from anyio<5,>=3.6.2->starlette<0.47.0,>=0.40.0->fastapi) (1.3.1)\n",
            "Requirement already satisfied: MarkupSafe>=2.0 in /usr/local/lib/python3.11/dist-packages (from Jinja2>=3.1.2->Flask>=0.8->flask-ngrok) (3.0.2)\n",
            "Downloading fastapi-0.115.12-py3-none-any.whl (95 kB)\n",
            "\u001b[2K   \u001b[90m━━━━━━━━━━━━━━━━━━━━━━━━━━━━━━━━━━━━━━━━\u001b[0m \u001b[32m95.2/95.2 kB\u001b[0m \u001b[31m3.9 MB/s\u001b[0m eta \u001b[36m0:00:00\u001b[0m\n",
            "\u001b[?25hDownloading uvicorn-0.34.0-py3-none-any.whl (62 kB)\n",
            "\u001b[2K   \u001b[90m━━━━━━━━━━━━━━━━━━━━━━━━━━━━━━━━━━━━━━━━\u001b[0m \u001b[32m62.3/62.3 kB\u001b[0m \u001b[31m4.3 MB/s\u001b[0m eta \u001b[36m0:00:00\u001b[0m\n",
            "\u001b[?25hDownloading flask_ngrok-0.0.25-py3-none-any.whl (3.1 kB)\n",
            "Downloading starlette-0.46.1-py3-none-any.whl (71 kB)\n",
            "\u001b[2K   \u001b[90m━━━━━━━━━━━━━━━━━━━━━━━━━━━━━━━━━━━━━━━━\u001b[0m \u001b[32m72.0/72.0 kB\u001b[0m \u001b[31m5.4 MB/s\u001b[0m eta \u001b[36m0:00:00\u001b[0m\n",
            "\u001b[?25hInstalling collected packages: uvicorn, starlette, flask-ngrok, fastapi\n",
            "Successfully installed fastapi-0.115.12 flask-ngrok-0.0.25 starlette-0.46.1 uvicorn-0.34.0\n"
          ]
        }
      ]
    },
    {
      "cell_type": "code",
      "source": [
        "!ngrok config add-authtoken 2uqtOeB9blxeBeCLbp6v48rnrNb_46CwtBUgb5kFFJw7TCMw2"
      ],
      "metadata": {
        "colab": {
          "base_uri": "https://localhost:8080/"
        },
        "id": "OA-DTlh18dYu",
        "outputId": "6c7f6ddd-5960-4e3b-9d56-fb3df02eb9d5"
      },
      "execution_count": 13,
      "outputs": [
        {
          "output_type": "stream",
          "name": "stdout",
          "text": [
            "Authtoken saved to configuration file: /root/.config/ngrok/ngrok.yml\n"
          ]
        }
      ]
    },
    {
      "cell_type": "code",
      "source": [
        "import joblib\n",
        "\n",
        "# Load trained model and vectorizer\n",
        "model = joblib.load(\"/content/random_forest.pkl\")  # Make sure model file exists\n",
        "vectorizer = joblib.load(\"/content/vectorizer.pkl\")  # Load the saved vectorizer\n",
        "\n",
        "# Function for prediction\n",
        "def predict_news(news_text):\n",
        "    news_vectorized = vectorizer.transform([news_text])  # Convert text to numerical form\n",
        "    prediction = model.predict(news_vectorized)[0]\n",
        "    result = \"Fake\" if prediction == 1 else \"Real\"\n",
        "    return result\n",
        "\n",
        "# Example Usage\n",
        "news = \"Breaking news! A new policy has been implemented.\"\n",
        "prediction = predict_news(news)\n",
        "print(f\"News Classification: {prediction}\")\n",
        "\n"
      ],
      "metadata": {
        "colab": {
          "base_uri": "https://localhost:8080/"
        },
        "id": "5R2eCA4QEf-j",
        "outputId": "af57c777-370c-40f2-bc3e-c6c30bab7b76"
      },
      "execution_count": 21,
      "outputs": [
        {
          "output_type": "stream",
          "name": "stdout",
          "text": [
            "News Classification: Real\n"
          ]
        }
      ]
    },
    {
      "cell_type": "code",
      "source": [
        "import joblib\n",
        "\n",
        "# Load trained model and vectorizer\n",
        "model = joblib.load(\"/content/random_forest.pkl\")\n",
        "vectorizer = joblib.load(\"/content/vectorizer.pkl\")\n",
        "\n",
        "# Function for prediction\n",
        "def predict_news():\n",
        "    news_text = input(\"Enter news text: \")  # User se real-time input le raha hai\n",
        "    news_vectorized = vectorizer.transform([news_text])\n",
        "    prediction = model.predict(news_vectorized)[0]\n",
        "    result = \"Fake\" if prediction == 1 else \"Real\"\n",
        "    print(f\"\\n📰 News Classification: {result}\\n\")\n",
        "\n",
        "# Run real-time classification loop\n",
        "while True:\n",
        "    predict_news()\n"
      ],
      "metadata": {
        "colab": {
          "base_uri": "https://localhost:8080/"
        },
        "id": "h-QIkvtwFntD",
        "outputId": "6abe7df6-7866-4def-b140-aa67f5408c54"
      },
      "execution_count": null,
      "outputs": [
        {
          "output_type": "stream",
          "name": "stdout",
          "text": [
            "Enter news text: Scientists discover a secret ingredient in Coca-Cola that makes people addicted within seconds!\n",
            "\n",
            "📰 News Classification: Real\n",
            "\n",
            "Enter news text: Elon Musk to launch a new city on Mars by next year with free houses for humans\n",
            "\n",
            "📰 News Classification: Real\n",
            "\n",
            "Enter news text: SHOAIB BUILD  ELON MUSK BUILDING\n",
            "\n",
            "📰 News Classification: Real\n",
            "\n"
          ]
        }
      ]
    },
    {
      "cell_type": "code",
      "source": [
        "\n"
      ],
      "metadata": {
        "id": "9xh8LYu9Gn30"
      },
      "execution_count": null,
      "outputs": []
    },
    {
      "cell_type": "code",
      "source": [],
      "metadata": {
        "id": "WN9-YsYfIn76"
      },
      "execution_count": null,
      "outputs": []
    }
  ]
}